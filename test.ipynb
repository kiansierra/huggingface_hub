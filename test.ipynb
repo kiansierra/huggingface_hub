{
 "cells": [
  {
   "cell_type": "code",
   "execution_count": 16,
   "metadata": {},
   "outputs": [],
   "source": [
    "import requests \n",
    "response = requests.get(\"https://rss.art19.com/episodes/d826f550-8547-4552-9c11-396c4537b349.mp3\")\n",
    "response.raise_for_status()\n",
    "with open('test.mp3', \"wb\") as f:\n",
    "    f.write(response.content)\n"
   ]
  },
  {
   "cell_type": "code",
   "execution_count": 17,
   "metadata": {},
   "outputs": [],
   "source": [
    "from huggingface_hub import InferenceClient\n",
    "client = InferenceClient()"
   ]
  },
  {
   "cell_type": "code",
   "execution_count": 23,
   "metadata": {},
   "outputs": [
    {
     "name": "stdout",
     "output_type": "stream",
     "text": [
      "Returned payload\n"
     ]
    }
   ],
   "source": [
    "result = client.automatic_speech_recognition('test.mp3',\n",
    "                                              parameters={'return_timestamps':True},\n",
    "                                              model=\"openai/whisper-large-v3-turbo\")"
   ]
  },
  {
   "cell_type": "code",
   "execution_count": 24,
   "metadata": {},
   "outputs": [
    {
     "data": {
      "text/plain": [
       "\" It's the Word of the Day podcast for January 31st. Today's word is encroach, spelled E-N-C-R-O-A-C-H. Encroach is a verb. To encroach is to gradually move or go into an area that is beyond the usual or desired limits, or to gradually take or begin to use or affect something that belongs to or is being used by someone else. Encroach is often followed by the words on or upon. Here's the word used in a sentence from the Hollywood Reporter. In their young adult years, Mufasa and Taka find their courage and loyalty tested when a group of white lions encroach upon the pride. The history behind the word encroach is likely to hook you in. The word comes from the Middle English verb encrochen, which means to get or seize. The Anglo-French predecessor of encrochen is encroché, which was formed by combining the prefix en-i-n, meaning in, with the noun coche, meaning hook. Coche is also an ancestor of our word crochet. That word first referred to a crochet hook or to the needlework done with it. Encroach carries the meaning of intrude, both in terms of privilege and property. The word can also hop over legal barriers to describe a general advancement beyond desirable or normal limits, such as a hurricane that encroaches on the mainland. With your Word of the Day, I'm Peter Sokolowski. visit merriamwebster.com today for definitions wordplay and trending word lookups\""
      ]
     },
     "execution_count": 24,
     "metadata": {},
     "output_type": "execute_result"
    }
   ],
   "source": [
    "result.text"
   ]
  },
  {
   "cell_type": "code",
   "execution_count": 26,
   "metadata": {},
   "outputs": [
    {
     "data": {
      "text/plain": [
       "[AutomaticSpeechRecognitionOutputChunk(text=\" It's the Word of the Day podcast for January 31st.\", timestamps=None),\n",
       " AutomaticSpeechRecognitionOutputChunk(text=\" Today's word is encroach, spelled E-N-C-R-O-A-C-H.\", timestamps=None),\n",
       " AutomaticSpeechRecognitionOutputChunk(text=' Encroach is a verb.', timestamps=None),\n",
       " AutomaticSpeechRecognitionOutputChunk(text=' To encroach is to gradually move or go into an area that is beyond the usual or desired', timestamps=None),\n",
       " AutomaticSpeechRecognitionOutputChunk(text=' limits, or to gradually take or begin to use or affect something that belongs to or is being used', timestamps=None),\n",
       " AutomaticSpeechRecognitionOutputChunk(text=\" by someone else. Encroach is often followed by the words on or upon. Here's the word used in a\", timestamps=None),\n",
       " AutomaticSpeechRecognitionOutputChunk(text=' sentence from the Hollywood Reporter. In their young adult years, Mufasa and Taka find their', timestamps=None),\n",
       " AutomaticSpeechRecognitionOutputChunk(text=' courage and loyalty tested when a group of white lions encroach upon the pride. The history behind', timestamps=None),\n",
       " AutomaticSpeechRecognitionOutputChunk(text=' the word encroach is likely to hook you in. The word comes from the Middle English verb encrochen,', timestamps=None),\n",
       " AutomaticSpeechRecognitionOutputChunk(text=' which means to get or seize. The Anglo-French predecessor of encrochen is encroché, which was', timestamps=None),\n",
       " AutomaticSpeechRecognitionOutputChunk(text=' formed by combining the prefix en-i-n, meaning in, with the noun coche, meaning hook. Coche is also', timestamps=None),\n",
       " AutomaticSpeechRecognitionOutputChunk(text=' an ancestor of our word crochet. That word first referred to a crochet hook or to the needlework', timestamps=None),\n",
       " AutomaticSpeechRecognitionOutputChunk(text=' done with it. Encroach carries the meaning of intrude, both in terms of privilege and property.', timestamps=None),\n",
       " AutomaticSpeechRecognitionOutputChunk(text=' The word can also hop over legal barriers to describe a general advancement beyond desirable', timestamps=None),\n",
       " AutomaticSpeechRecognitionOutputChunk(text=' or normal limits, such as a hurricane that encroaches on the mainland.', timestamps=None),\n",
       " AutomaticSpeechRecognitionOutputChunk(text=\" With your Word of the Day, I'm Peter Sokolowski.\", timestamps=None),\n",
       " AutomaticSpeechRecognitionOutputChunk(text=' visit merriamwebster.com today for definitions wordplay and trending word lookups', timestamps=None)]"
      ]
     },
     "execution_count": 26,
     "metadata": {},
     "output_type": "execute_result"
    }
   ],
   "source": [
    "result.chunks"
   ]
  },
  {
   "cell_type": "code",
   "execution_count": null,
   "metadata": {},
   "outputs": [],
   "source": []
  }
 ],
 "metadata": {
  "kernelspec": {
   "display_name": "Python 3",
   "language": "python",
   "name": "python3"
  },
  "language_info": {
   "codemirror_mode": {
    "name": "ipython",
    "version": 3
   },
   "file_extension": ".py",
   "mimetype": "text/x-python",
   "name": "python",
   "nbconvert_exporter": "python",
   "pygments_lexer": "ipython3",
   "version": "3.12.1"
  }
 },
 "nbformat": 4,
 "nbformat_minor": 2
}
